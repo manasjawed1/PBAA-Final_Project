{
 "cells": [
  {
   "cell_type": "markdown",
   "metadata": {},
   "source": [
    "# Scratch Work - Notebook\n",
    "This notebook is write and test out PySpark Code more easily"
   ]
  },
  {
   "cell_type": "code",
   "execution_count": 1,
   "metadata": {},
   "outputs": [],
   "source": [
    "import pandas as pd"
   ]
  },
  {
   "cell_type": "code",
   "execution_count": 2,
   "metadata": {},
   "outputs": [
    {
     "data": {
      "text/html": [
       "<div>\n",
       "<style scoped>\n",
       "    .dataframe tbody tr th:only-of-type {\n",
       "        vertical-align: middle;\n",
       "    }\n",
       "\n",
       "    .dataframe tbody tr th {\n",
       "        vertical-align: top;\n",
       "    }\n",
       "\n",
       "    .dataframe thead th {\n",
       "        text-align: right;\n",
       "    }\n",
       "</style>\n",
       "<table border=\"1\" class=\"dataframe\">\n",
       "  <thead>\n",
       "    <tr style=\"text-align: right;\">\n",
       "      <th></th>\n",
       "      <th>00000</th>\n",
       "      <th>AK</th>\n",
       "      <th>1</th>\n",
       "      <th>102970.0000</th>\n",
       "      <th>1217577.0000</th>\n",
       "      <th>91.0000</th>\n",
       "      <th>2345.0000</th>\n",
       "      <th>760.0000</th>\n",
       "      <th>2871.0000</th>\n",
       "      <th>258661.0000\\t1</th>\n",
       "    </tr>\n",
       "  </thead>\n",
       "  <tbody>\n",
       "    <tr>\n",
       "      <th>0</th>\n",
       "      <td>0</td>\n",
       "      <td>AK</td>\n",
       "      <td>2</td>\n",
       "      <td>78020.0</td>\n",
       "      <td>2883175.0</td>\n",
       "      <td>99.0</td>\n",
       "      <td>7750.0</td>\n",
       "      <td>2140.0</td>\n",
       "      <td>8440.0</td>\n",
       "      <td>1606418.0000\\t1</td>\n",
       "    </tr>\n",
       "    <tr>\n",
       "      <th>1</th>\n",
       "      <td>0</td>\n",
       "      <td>AK</td>\n",
       "      <td>3</td>\n",
       "      <td>51120.0</td>\n",
       "      <td>3184731.0</td>\n",
       "      <td>488.0</td>\n",
       "      <td>14187.0</td>\n",
       "      <td>3470.0</td>\n",
       "      <td>15114.0</td>\n",
       "      <td>2212441.0000\\t1</td>\n",
       "    </tr>\n",
       "    <tr>\n",
       "      <th>2</th>\n",
       "      <td>0</td>\n",
       "      <td>AK</td>\n",
       "      <td>4</td>\n",
       "      <td>35550.0</td>\n",
       "      <td>3112057.0</td>\n",
       "      <td>474.0</td>\n",
       "      <td>15475.0</td>\n",
       "      <td>3520.0</td>\n",
       "      <td>16971.0</td>\n",
       "      <td>2334158.0000\\t1</td>\n",
       "    </tr>\n",
       "    <tr>\n",
       "      <th>3</th>\n",
       "      <td>0</td>\n",
       "      <td>AK</td>\n",
       "      <td>5</td>\n",
       "      <td>59750.0</td>\n",
       "      <td>8274715.0</td>\n",
       "      <td>3487.0</td>\n",
       "      <td>46867.0</td>\n",
       "      <td>8750.0</td>\n",
       "      <td>51648.0</td>\n",
       "      <td>6713257.0000\\t1</td>\n",
       "    </tr>\n",
       "    <tr>\n",
       "      <th>4</th>\n",
       "      <td>0</td>\n",
       "      <td>AK</td>\n",
       "      <td>6</td>\n",
       "      <td>17810.0</td>\n",
       "      <td>6953958.0</td>\n",
       "      <td>6337.0</td>\n",
       "      <td>56867.0</td>\n",
       "      <td>6340.0</td>\n",
       "      <td>51250.0</td>\n",
       "      <td>6090219.0000\\t1</td>\n",
       "    </tr>\n",
       "  </tbody>\n",
       "</table>\n",
       "</div>"
      ],
      "text/plain": [
       "   00000  AK  1  102970.0000  1217577.0000  91.0000  2345.0000  760.0000  \\\n",
       "0      0  AK  2      78020.0     2883175.0     99.0     7750.0    2140.0   \n",
       "1      0  AK  3      51120.0     3184731.0    488.0    14187.0    3470.0   \n",
       "2      0  AK  4      35550.0     3112057.0    474.0    15475.0    3520.0   \n",
       "3      0  AK  5      59750.0     8274715.0   3487.0    46867.0    8750.0   \n",
       "4      0  AK  6      17810.0     6953958.0   6337.0    56867.0    6340.0   \n",
       "\n",
       "   2871.0000   258661.0000\\t1  \n",
       "0     8440.0  1606418.0000\\t1  \n",
       "1    15114.0  2212441.0000\\t1  \n",
       "2    16971.0  2334158.0000\\t1  \n",
       "3    51648.0  6713257.0000\\t1  \n",
       "4    51250.0  6090219.0000\\t1  "
      ]
     },
     "execution_count": 2,
     "metadata": {},
     "output_type": "execute_result"
    }
   ],
   "source": [
    "income = pd.read_csv(\"income_cleaned.csv\")\n",
    "income.head()"
   ]
  },
  {
   "cell_type": "code",
   "execution_count": 3,
   "metadata": {},
   "outputs": [
    {
     "data": {
      "text/html": [
       "<div>\n",
       "<style scoped>\n",
       "    .dataframe tbody tr th:only-of-type {\n",
       "        vertical-align: middle;\n",
       "    }\n",
       "\n",
       "    .dataframe tbody tr th {\n",
       "        vertical-align: top;\n",
       "    }\n",
       "\n",
       "    .dataframe thead th {\n",
       "        text-align: right;\n",
       "    }\n",
       "</style>\n",
       "<table border=\"1\" class=\"dataframe\">\n",
       "  <thead>\n",
       "    <tr style=\"text-align: right;\">\n",
       "      <th></th>\n",
       "      <th>00000</th>\n",
       "      <th>AK</th>\n",
       "      <th>1</th>\n",
       "      <th>102970.0000</th>\n",
       "      <th>1217577.0000</th>\n",
       "      <th>91.0000</th>\n",
       "      <th>2345.0000</th>\n",
       "      <th>760.0000</th>\n",
       "      <th>2871.0000</th>\n",
       "      <th>258661.0000\\t1</th>\n",
       "    </tr>\n",
       "  </thead>\n",
       "  <tbody>\n",
       "    <tr>\n",
       "      <th>165623</th>\n",
       "      <td>99901</td>\n",
       "      <td>AK</td>\n",
       "      <td>2</td>\n",
       "      <td>1490.0</td>\n",
       "      <td>54854.0</td>\n",
       "      <td>0.0</td>\n",
       "      <td>159.0</td>\n",
       "      <td>50.0</td>\n",
       "      <td>197.0</td>\n",
       "      <td>30765.0000\\t1</td>\n",
       "    </tr>\n",
       "    <tr>\n",
       "      <th>165624</th>\n",
       "      <td>99901</td>\n",
       "      <td>AK</td>\n",
       "      <td>3</td>\n",
       "      <td>960.0</td>\n",
       "      <td>60040.0</td>\n",
       "      <td>0.0</td>\n",
       "      <td>158.0</td>\n",
       "      <td>50.0</td>\n",
       "      <td>200.0</td>\n",
       "      <td>41785.0000\\t1</td>\n",
       "    </tr>\n",
       "    <tr>\n",
       "      <th>165625</th>\n",
       "      <td>99901</td>\n",
       "      <td>AK</td>\n",
       "      <td>4</td>\n",
       "      <td>670.0</td>\n",
       "      <td>58941.0</td>\n",
       "      <td>0.0</td>\n",
       "      <td>160.0</td>\n",
       "      <td>60.0</td>\n",
       "      <td>219.0</td>\n",
       "      <td>43461.0000\\t1</td>\n",
       "    </tr>\n",
       "    <tr>\n",
       "      <th>165626</th>\n",
       "      <td>99901</td>\n",
       "      <td>AK</td>\n",
       "      <td>5</td>\n",
       "      <td>1000.0</td>\n",
       "      <td>135844.0</td>\n",
       "      <td>369.0</td>\n",
       "      <td>463.0</td>\n",
       "      <td>110.0</td>\n",
       "      <td>619.0</td>\n",
       "      <td>109344.0000\\t1</td>\n",
       "    </tr>\n",
       "    <tr>\n",
       "      <th>165627</th>\n",
       "      <td>99901</td>\n",
       "      <td>AK</td>\n",
       "      <td>6</td>\n",
       "      <td>280.0</td>\n",
       "      <td>111750.0</td>\n",
       "      <td>0.0</td>\n",
       "      <td>540.0</td>\n",
       "      <td>90.0</td>\n",
       "      <td>650.0</td>\n",
       "      <td>95546.0000\\t1</td>\n",
       "    </tr>\n",
       "  </tbody>\n",
       "</table>\n",
       "</div>"
      ],
      "text/plain": [
       "        00000  AK  1  102970.0000  1217577.0000  91.0000  2345.0000  760.0000  \\\n",
       "165623  99901  AK  2       1490.0       54854.0      0.0      159.0      50.0   \n",
       "165624  99901  AK  3        960.0       60040.0      0.0      158.0      50.0   \n",
       "165625  99901  AK  4        670.0       58941.0      0.0      160.0      60.0   \n",
       "165626  99901  AK  5       1000.0      135844.0    369.0      463.0     110.0   \n",
       "165627  99901  AK  6        280.0      111750.0      0.0      540.0      90.0   \n",
       "\n",
       "        2871.0000  258661.0000\\t1  \n",
       "165623      197.0   30765.0000\\t1  \n",
       "165624      200.0   41785.0000\\t1  \n",
       "165625      219.0   43461.0000\\t1  \n",
       "165626      619.0  109344.0000\\t1  \n",
       "165627      650.0   95546.0000\\t1  "
      ]
     },
     "execution_count": 3,
     "metadata": {},
     "output_type": "execute_result"
    }
   ],
   "source": [
    "income.tail()"
   ]
  },
  {
   "cell_type": "code",
   "execution_count": 4,
   "metadata": {},
   "outputs": [
    {
     "data": {
      "text/html": [
       "<div>\n",
       "<style scoped>\n",
       "    .dataframe tbody tr th:only-of-type {\n",
       "        vertical-align: middle;\n",
       "    }\n",
       "\n",
       "    .dataframe tbody tr th {\n",
       "        vertical-align: top;\n",
       "    }\n",
       "\n",
       "    .dataframe thead th {\n",
       "        text-align: right;\n",
       "    }\n",
       "</style>\n",
       "<table border=\"1\" class=\"dataframe\">\n",
       "  <thead>\n",
       "    <tr style=\"text-align: right;\">\n",
       "      <th></th>\n",
       "      <th>201801</th>\n",
       "      <th>10001</th>\n",
       "      <th>4950000</th>\n",
       "      <th>79</th>\n",
       "      <th>2054.737468</th>\n",
       "      <th>2053</th>\n",
       "      <th>6114301.803</th>\n",
       "      <th>187\\t1</th>\n",
       "    </tr>\n",
       "  </thead>\n",
       "  <tbody>\n",
       "    <tr>\n",
       "      <th>0</th>\n",
       "      <td>201801</td>\n",
       "      <td>10002</td>\n",
       "      <td>1922500.0</td>\n",
       "      <td>114</td>\n",
       "      <td>1917.428043</td>\n",
       "      <td>1027.5</td>\n",
       "      <td>2344101.514</td>\n",
       "      <td>1250\\t1</td>\n",
       "    </tr>\n",
       "    <tr>\n",
       "      <th>1</th>\n",
       "      <td>201801</td>\n",
       "      <td>10003</td>\n",
       "      <td>2072500.0</td>\n",
       "      <td>170</td>\n",
       "      <td>1384.542096</td>\n",
       "      <td>670.0</td>\n",
       "      <td>3716218.722</td>\n",
       "      <td>590\\t1</td>\n",
       "    </tr>\n",
       "    <tr>\n",
       "      <th>2</th>\n",
       "      <td>201801</td>\n",
       "      <td>10004</td>\n",
       "      <td>1185000.0</td>\n",
       "      <td>22</td>\n",
       "      <td>1285.714286</td>\n",
       "      <td>852.5</td>\n",
       "      <td>2322130.435</td>\n",
       "      <td>42\\t1</td>\n",
       "    </tr>\n",
       "    <tr>\n",
       "      <th>3</th>\n",
       "      <td>201801</td>\n",
       "      <td>10005</td>\n",
       "      <td>1395000.5</td>\n",
       "      <td>79</td>\n",
       "      <td>1385.177251</td>\n",
       "      <td>963.0</td>\n",
       "      <td>1624165.762</td>\n",
       "      <td>139\\t1</td>\n",
       "    </tr>\n",
       "    <tr>\n",
       "      <th>4</th>\n",
       "      <td>201801</td>\n",
       "      <td>10006</td>\n",
       "      <td>2444000.0</td>\n",
       "      <td>56</td>\n",
       "      <td>2271.037265</td>\n",
       "      <td>986.5</td>\n",
       "      <td>4200294.772</td>\n",
       "      <td>244\\t1</td>\n",
       "    </tr>\n",
       "  </tbody>\n",
       "</table>\n",
       "</div>"
      ],
      "text/plain": [
       "   201801  10001    4950000   79  2054.737468    2053  6114301.803   187\\t1\n",
       "0  201801  10002  1922500.0  114  1917.428043  1027.5  2344101.514  1250\\t1\n",
       "1  201801  10003  2072500.0  170  1384.542096   670.0  3716218.722   590\\t1\n",
       "2  201801  10004  1185000.0   22  1285.714286   852.5  2322130.435    42\\t1\n",
       "3  201801  10005  1395000.5   79  1385.177251   963.0  1624165.762   139\\t1\n",
       "4  201801  10006  2444000.0   56  2271.037265   986.5  4200294.772   244\\t1"
      ]
     },
     "execution_count": 4,
     "metadata": {},
     "output_type": "execute_result"
    }
   ],
   "source": [
    "real = pd.read_csv(\"real_cleaned.csv\")\n",
    "real.head()"
   ]
  },
  {
   "cell_type": "markdown",
   "metadata": {},
   "source": [
    "## Experiment with PySpark"
   ]
  },
  {
   "cell_type": "code",
   "execution_count": 5,
   "metadata": {},
   "outputs": [],
   "source": [
    "from pyspark.sql import SparkSession\n",
    "\n",
    "spark = SparkSession.builder.getOrCreate()"
   ]
  },
  {
   "cell_type": "code",
   "execution_count": 6,
   "metadata": {},
   "outputs": [],
   "source": [
    "from datetime import datetime, date\n",
    "import pandas as pd\n",
    "from pyspark.sql import Row"
   ]
  },
  {
   "cell_type": "code",
   "execution_count": 7,
   "metadata": {},
   "outputs": [],
   "source": [
    "# random spark dataframe test\n",
    "df = spark.createDataFrame([\n",
    "    Row(a=1, b=2., c='string1', d=date(2000, 1, 1), e=datetime(2000, 1, 1, 12, 0)),\n",
    "    Row(a=2, b=3., c='string2', d=date(2000, 2, 1), e=datetime(2000, 1, 2, 12, 0)),\n",
    "    Row(a=4, b=5., c='string3', d=date(2000, 3, 1), e=datetime(2000, 1, 3, 12, 0))\n",
    "])"
   ]
  },
  {
   "cell_type": "code",
   "execution_count": 8,
   "metadata": {},
   "outputs": [
    {
     "name": "stdout",
     "output_type": "stream",
     "text": [
      "+---+---+-------+----------+-------------------+\n",
      "|  a|  b|      c|         d|                  e|\n",
      "+---+---+-------+----------+-------------------+\n",
      "|  1|2.0|string1|2000-01-01|2000-01-01 12:00:00|\n",
      "|  2|3.0|string2|2000-02-01|2000-01-02 12:00:00|\n",
      "|  4|5.0|string3|2000-03-01|2000-01-03 12:00:00|\n",
      "+---+---+-------+----------+-------------------+\n",
      "\n"
     ]
    }
   ],
   "source": [
    "df.show()"
   ]
  },
  {
   "cell_type": "code",
   "execution_count": 9,
   "metadata": {},
   "outputs": [],
   "source": [
    "real = spark.read.csv(\"real_cleaned.csv\")"
   ]
  },
  {
   "cell_type": "code",
   "execution_count": 10,
   "metadata": {},
   "outputs": [],
   "source": [
    "# rename real columns\n",
    "actual_columns = [\"date\", \"zipcode\", \"median_listing_price\", \"active_listing_count\",\n",
    "                  \"median_per_sq_ft\", \"median_sq_ft\", \"average_listing_price\",\n",
    "                  \"total_listing_count\"]\n",
    "\n",
    "for i in range(len(actual_columns)):\n",
    "    real = real.withColumnRenamed(\"_c\" + str(i), actual_columns[i])"
   ]
  },
  {
   "cell_type": "code",
   "execution_count": 11,
   "metadata": {},
   "outputs": [
    {
     "name": "stdout",
     "output_type": "stream",
     "text": [
      "+------+-------+--------------------+--------------------+----------------+------------+---------------------+-------------------+\n",
      "|  date|zipcode|median_listing_price|active_listing_count|median_per_sq_ft|median_sq_ft|average_listing_price|total_listing_count|\n",
      "+------+-------+--------------------+--------------------+----------------+------------+---------------------+-------------------+\n",
      "|201801|  10001|             4950000|                  79|     2054.737468|        2053|          6114301.803|              187\t1|\n",
      "|201801|  10002|             1922500|                 114|     1917.428043|      1027.5|          2344101.514|             1250\t1|\n",
      "|201801|  10003|             2072500|                 170|     1384.542096|         670|          3716218.722|              590\t1|\n",
      "|201801|  10004|             1185000|                  22|     1285.714286|       852.5|          2322130.435|               42\t1|\n",
      "|201801|  10005|           1395000.5|                  79|     1385.177251|         963|          1624165.762|              139\t1|\n",
      "+------+-------+--------------------+--------------------+----------------+------------+---------------------+-------------------+\n",
      "only showing top 5 rows\n",
      "\n"
     ]
    }
   ],
   "source": [
    "real.show(5)"
   ]
  },
  {
   "cell_type": "code",
   "execution_count": 12,
   "metadata": {},
   "outputs": [],
   "source": [
    "income = spark.read.csv(\"income_cleaned.csv\")"
   ]
  },
  {
   "cell_type": "code",
   "execution_count": 13,
   "metadata": {},
   "outputs": [],
   "source": [
    "income_columns = [\"zipcode\", \"state\", \"agi_stub\", \"n1\", \"total_income\", \"state_and_local\",\n",
    "                 \"real_estate\", \"num_paid\", \"paid_amount\", \"taxable_amount\"]\n",
    "for i in range(len(income_columns)):\n",
    "    income = income.withColumnRenamed(\"_c\" + str(i), income_columns[i])"
   ]
  },
  {
   "cell_type": "code",
   "execution_count": 14,
   "metadata": {},
   "outputs": [
    {
     "name": "stdout",
     "output_type": "stream",
     "text": [
      "+-------+-----+--------+-----------+------------+---------------+-----------+---------+-----------+--------------+\n",
      "|zipcode|state|agi_stub|         n1|total_income|state_and_local|real_estate| num_paid|paid_amount|taxable_amount|\n",
      "+-------+-----+--------+-----------+------------+---------------+-----------+---------+-----------+--------------+\n",
      "|  00000|   AK|       1|102970.0000|1217577.0000|        91.0000|  2345.0000| 760.0000|  2871.0000| 258661.0000\t1|\n",
      "|  00000|   AK|       2| 78020.0000|2883175.0000|        99.0000|  7750.0000|2140.0000|  8440.0000|1606418.0000\t1|\n",
      "|  00000|   AK|       3| 51120.0000|3184731.0000|       488.0000| 14187.0000|3470.0000| 15114.0000|2212441.0000\t1|\n",
      "|  00000|   AK|       4| 35550.0000|3112057.0000|       474.0000| 15475.0000|3520.0000| 16971.0000|2334158.0000\t1|\n",
      "|  00000|   AK|       5| 59750.0000|8274715.0000|      3487.0000| 46867.0000|8750.0000| 51648.0000|6713257.0000\t1|\n",
      "+-------+-----+--------+-----------+------------+---------------+-----------+---------+-----------+--------------+\n",
      "only showing top 5 rows\n",
      "\n"
     ]
    }
   ],
   "source": [
    "income.show(5)"
   ]
  },
  {
   "cell_type": "code",
   "execution_count": 15,
   "metadata": {},
   "outputs": [],
   "source": [
    "# enable the tables to be used by SQL\n",
    "real.createOrReplaceTempView(\"real_estate_clean\")\n",
    "income.createOrReplaceTempView(\"income_clean\")"
   ]
  },
  {
   "cell_type": "code",
   "execution_count": 16,
   "metadata": {},
   "outputs": [
    {
     "name": "stdout",
     "output_type": "stream",
     "text": [
      "+-------+-----+--------+-----------+------------+---------------+-----------+---------+-----------+--------------+\n",
      "|zipcode|state|agi_stub|         n1|total_income|state_and_local|real_estate| num_paid|paid_amount|taxable_amount|\n",
      "+-------+-----+--------+-----------+------------+---------------+-----------+---------+-----------+--------------+\n",
      "|  00000|   AK|       1|102970.0000|1217577.0000|        91.0000|  2345.0000| 760.0000|  2871.0000| 258661.0000\t1|\n",
      "|  00000|   AK|       2| 78020.0000|2883175.0000|        99.0000|  7750.0000|2140.0000|  8440.0000|1606418.0000\t1|\n",
      "+-------+-----+--------+-----------+------------+---------------+-----------+---------+-----------+--------------+\n",
      "only showing top 2 rows\n",
      "\n"
     ]
    }
   ],
   "source": [
    "# example dataframe\n",
    "df = spark.sql(\"SELECT * from income_clean\")\n",
    "df.show(2)"
   ]
  },
  {
   "cell_type": "code",
   "execution_count": 17,
   "metadata": {},
   "outputs": [],
   "source": [
    "## We need to get a new table by aggregating the two tables and then joining them\n",
    "\n",
    "query1 = \"\"\"\n",
    "\n",
    "WITH income AS (\n",
    "\t\n",
    "\tSELECT zipcode, state, sum(total_income*1000)/sum(n1) as avg_income from income_clean GROUP BY zipcode, state\n",
    "),\n",
    "\n",
    "real_estate AS (\n",
    "\n",
    "\tSELECT zipcode, avg(median_listing_price) as avg_median_listing_price from real_estate_clean GROUP BY zipcode\n",
    ")\n",
    "\n",
    "SELECT income.zipcode, income.state, income.avg_income, real_estate.avg_median_listing_price, \n",
    "income.avg_income - real_estate.avg_median_listing_price as diff from income JOIN real_estate ON \n",
    "income.zipcode = real_estate.zipcode ORDER BY diff\n",
    "\n",
    "\n",
    "\"\"\"\n",
    "\n",
    "query1 = query1.replace(\"\\n\", \" \").replace(\"\\t\", \" \")"
   ]
  },
  {
   "cell_type": "code",
   "execution_count": 18,
   "metadata": {},
   "outputs": [],
   "source": [
    "# this query joins the two datasets, aggregates them by zipcode, and selects only the relevant columns\n",
    "query2 = \"\"\"\n",
    "WITH income AS (\n",
    "\t\n",
    "\tSELECT zipcode, state, (sum(total_income)-sum(state_and_local))*1000/sum(n1) as post_tax_income from income_clean GROUP BY zipcode, state\n",
    "),\n",
    "\n",
    "real_estate AS (\n",
    "\n",
    "\tSELECT zipcode, avg(median_listing_price) as avg_median_listing_price from real_estate_clean GROUP BY zipcode\n",
    ")\n",
    "\n",
    "SELECT income.zipcode, income.state, income.post_tax_income, real_estate.avg_median_listing_price, income.post_tax_income - real_estate.avg_median_listing_price as diff from income JOIN real_estate ON income.zipcode = real_estate.zipcode ORDER BY diff\n",
    "\n",
    "\n",
    "\n",
    "\"\"\"\n",
    "\n",
    "query2 = query2.replace(\"\\n\", \" \").replace(\"\\t\", \" \")"
   ]
  },
  {
   "cell_type": "code",
   "execution_count": 19,
   "metadata": {
    "scrolled": true
   },
   "outputs": [
    {
     "name": "stdout",
     "output_type": "stream",
     "text": [
      "+-------+-----+------------------+------------------------+-------------------+\n",
      "|zipcode|state|   post_tax_income|avg_median_listing_price|               diff|\n",
      "+-------+-----+------------------+------------------------+-------------------+\n",
      "|  94027|   CA|1581435.9133126936|    1.0912958333333334E7|  -9331522.42002064|\n",
      "|  94022|   CA| 690373.1343283582|       6399907.333333333| -5709534.199004975|\n",
      "|  90210|   CA| 714445.1022604952|               6354500.0| -5640054.897739504|\n",
      "|  90077|   CA| 684034.0852130326|       5660416.666666667| -4976382.581453634|\n",
      "|  10013|   NY|  484218.400520156|       4737333.333333333| -4253114.932813177|\n",
      "|  89413|   NV| 657810.5263157894|               4803750.0|-4145939.4736842103|\n",
      "|  94010|   CA| 385694.8119942884|       4244791.666666667|-3859096.8546723784|\n",
      "|  94028|   CA| 736867.8362573099|       4544611.111111111|-3807743.2748538014|\n",
      "|  10007|   NY| 715089.0957446808|               4473000.0|-3757910.9042553194|\n",
      "|  90265|   CA|278210.74249605055|      4005615.7083333335| -3727404.965837283|\n",
      "|  91008|   CA|281519.23076923075|      3960166.6666666665| -3678647.435897436|\n",
      "|  93108|   CA| 397157.4279379157|      4066645.8333333335| -3669488.405395418|\n",
      "|  92661|   CA|215072.41379310345|               3876791.5|-3661719.0862068967|\n",
      "|  94024|   CA| 501488.2770870337|               4160375.0|-3658886.7229129663|\n",
      "|  94920|   CA| 542458.7761674718|      4174916.6666666665|-3632457.8904991946|\n",
      "|  92657|   CA| 612476.8240343347|               4237000.0|-3624523.1759656654|\n",
      "|  98039|   WA|1178529.2207792208|               4706937.5|-3528408.2792207794|\n",
      "|  10001|   NY| 173602.4148606811|               3601875.0| -3428272.585139319|\n",
      "|  90049|   CA| 413861.8308351178|      3805458.3333333335|-3391596.5024982155|\n",
      "|  10012|   NY| 271601.6367887763|               3628875.0| -3357273.363211224|\n",
      "+-------+-----+------------------+------------------------+-------------------+\n",
      "only showing top 20 rows\n",
      "\n"
     ]
    }
   ],
   "source": [
    "df = spark.sql(query2)\n",
    "df.show()"
   ]
  },
  {
   "cell_type": "code",
   "execution_count": 20,
   "metadata": {},
   "outputs": [
    {
     "data": {
      "text/plain": [
       "DataFrame[zipcode: string, state: string, post_tax_income: double, avg_median_listing_price: double, diff: double]"
      ]
     },
     "execution_count": 20,
     "metadata": {},
     "output_type": "execute_result"
    }
   ],
   "source": [
    "df"
   ]
  },
  {
   "cell_type": "code",
   "execution_count": 21,
   "metadata": {},
   "outputs": [
    {
     "name": "stdout",
     "output_type": "stream",
     "text": [
      "+-------+------------------+-----+------------------+------------------------+-------------------+\n",
      "|summary|           zipcode|state|   post_tax_income|avg_median_listing_price|               diff|\n",
      "+-------+------------------+-----+------------------+------------------------+-------------------+\n",
      "|  count|             15891|15891|             15891|                   15891|              15891|\n",
      "|   mean| 52199.64741048392| null| 73160.09935464531|       323458.3579923549|-250298.25863770972|\n",
      "| stddev|26283.550113090765| null| 63984.77317612184|      339307.91408397135| 299720.14731215296|\n",
      "|    min|             10001|   AK| 21754.24836601307|      13608.333333333334|  -9331522.42002064|\n",
      "|    max|             99901|   WY|3848388.4615384615|    1.0912958333333334E7|           268363.0|\n",
      "+-------+------------------+-----+------------------+------------------------+-------------------+\n",
      "\n"
     ]
    }
   ],
   "source": [
    "df.describe().show()"
   ]
  },
  {
   "cell_type": "markdown",
   "metadata": {},
   "source": [
    "## PySpark ML Regression Part"
   ]
  },
  {
   "cell_type": "code",
   "execution_count": 49,
   "metadata": {},
   "outputs": [],
   "source": [
    "# this query joins the two datasets, aggregates them by zipcode, and selects only the relevant columns\n",
    "query3 = \"\"\"\n",
    "WITH income AS (\n",
    "\t\n",
    "\tSELECT zipcode, state, (sum(total_income)-sum(state_and_local))*1000/sum(n1) as post_tax_income from income_clean GROUP BY zipcode, state\n",
    "),\n",
    "\n",
    "real_estate AS (\n",
    "\n",
    "\tSELECT zipcode, avg(median_per_sq_ft) as avg_median_per_sq_ft from real_estate_clean GROUP BY zipcode\n",
    ")\n",
    "\n",
    "SELECT income.zipcode, income.state, income.post_tax_income, real_estate.avg_median_per_sq_ft from income JOIN real_estate ON income.zipcode = real_estate.zipcode\n",
    "\n",
    "\n",
    "\n",
    "\"\"\"\n",
    "\n",
    "query3 = query3.replace(\"\\n\", \" \").replace(\"\\t\", \" \")"
   ]
  },
  {
   "cell_type": "code",
   "execution_count": 50,
   "metadata": {
    "scrolled": true
   },
   "outputs": [
    {
     "name": "stdout",
     "output_type": "stream",
     "text": [
      "+-------+-----+------------------+--------------------+\n",
      "|zipcode|state|   post_tax_income|avg_median_per_sq_ft|\n",
      "+-------+-----+------------------+--------------------+\n",
      "|  11364|   NY| 70592.03734211971|                 0.0|\n",
      "|  12526|   NY| 81423.75690607735|   223.3525817583333|\n",
      "|  13142|   NY|56614.840989399294|   95.07080645583333|\n",
      "|  13634|   NY| 58806.01092896175|  117.68826465833335|\n",
      "|  14063|   NY| 61457.89473684211|   90.99906744166667|\n",
      "|  18635|   PA|55867.010309278354|   85.15693468166667|\n",
      "|  19023|   PA| 35458.05805805806|   53.77630834083334|\n",
      "|  19904|   DE|53425.642558278545|  110.81974761666667|\n",
      "|  20736|   MD|103787.91946308725|       178.327018425|\n",
      "|  21821|   MD|54526.470588235294|         105.3569471|\n",
      "|  22637|   VA| 63334.95145631068|  167.23017166666665|\n",
      "|  24503|   VA|102390.31903190319|   96.31059369166667|\n",
      "|  24526|   VA|         55534.375|       56.5866000275|\n",
      "|  24553|   VA|           45128.0|  39.044974173750006|\n",
      "|  25213|   WV| 75181.49466192171|       112.759314175|\n",
      "|  27017|   NC| 48053.67231638418|       74.5433105625|\n",
      "|  28585|   NC| 43180.39215686275|   66.56249375833333|\n",
      "|  28692|   NC|57920.765027322406|   96.29685983999998|\n",
      "|  29369|   SC| 66425.23874488405|   88.65495822499999|\n",
      "|  30268|   GA| 61043.27122153209|  132.69203626916666|\n",
      "+-------+-----+------------------+--------------------+\n",
      "only showing top 20 rows\n",
      "\n"
     ]
    }
   ],
   "source": [
    "df = spark.sql(query3)\n",
    "df.show()"
   ]
  },
  {
   "cell_type": "code",
   "execution_count": null,
   "metadata": {},
   "outputs": [],
   "source": []
  },
  {
   "cell_type": "code",
   "execution_count": 22,
   "metadata": {},
   "outputs": [],
   "source": [
    "## Inspired by https://towardsdatascience.com/building-a-linear-regression-with-pyspark-and-mllib-d065c3ba246a"
   ]
  },
  {
   "cell_type": "code",
   "execution_count": 57,
   "metadata": {},
   "outputs": [],
   "source": [
    "# Let's do a simple regression\n",
    "# Let's just see what the median_listing_prices should be, if we only use post_tax income as a factor\n",
    "from pyspark.ml.feature import VectorAssembler"
   ]
  },
  {
   "cell_type": "code",
   "execution_count": 70,
   "metadata": {},
   "outputs": [],
   "source": [
    "vectorAssembler = VectorAssembler(inputCols = [\"post_tax_income\"], outputCol = \"features\")"
   ]
  },
  {
   "cell_type": "code",
   "execution_count": 71,
   "metadata": {},
   "outputs": [],
   "source": [
    "vdf = vectorAssembler.transform(df)\n",
    "vdf = vdf.select(['features', 'avg_median_per_sq_ft'])"
   ]
  },
  {
   "cell_type": "code",
   "execution_count": 72,
   "metadata": {},
   "outputs": [
    {
     "name": "stdout",
     "output_type": "stream",
     "text": [
      "+--------------------+--------------------+\n",
      "|            features|avg_median_per_sq_ft|\n",
      "+--------------------+--------------------+\n",
      "| [91459.48936170213]|                 0.0|\n",
      "|[45340.010090817355]|                 0.0|\n",
      "| [88197.47899159664]|  196.98922935833332|\n",
      "| [61771.42857142857]|  202.40300430833335|\n",
      "| [53544.48529411765]|   81.40209669416666|\n",
      "| [40626.08108108108]|   59.15161284916667|\n",
      "|[27270.838252656435]|   33.79784127166666|\n",
      "|[55448.275862068964]|   71.55642273416667|\n",
      "|[43956.856702619414]|   42.08462376333333|\n",
      "|[118056.72131147541]|  216.50281053333333|\n",
      "|  [90323.5294117647]|  125.63116786666666|\n",
      "|[28094.142554693015]|  43.858319376666664|\n",
      "| [142559.3137254902]|  174.35268825454546|\n",
      "|[65045.475638051044]|      122.2602071925|\n",
      "| [44955.09708737864]|  19.450741244499998|\n",
      "| [48788.43626806833]|   68.98834251749999|\n",
      "| [130477.0314701738]|  154.26748685833334|\n",
      "| [49203.25203252032]|   87.69361918166665|\n",
      "| [49494.88188976378]|   62.43568541916667|\n",
      "| [37372.39263803681]|   71.26318031749999|\n",
      "+--------------------+--------------------+\n",
      "only showing top 20 rows\n",
      "\n"
     ]
    }
   ],
   "source": [
    "vdf.show()"
   ]
  },
  {
   "cell_type": "code",
   "execution_count": 73,
   "metadata": {},
   "outputs": [],
   "source": [
    "splits = vdf.randomSplit([0.7, 0.3])\n",
    "train_df = splits[0]\n",
    "test_df = splits[1]"
   ]
  },
  {
   "cell_type": "code",
   "execution_count": 74,
   "metadata": {},
   "outputs": [
    {
     "name": "stdout",
     "output_type": "stream",
     "text": [
      "Coefficients: [0.0013179718396013444]\n",
      "Intercept: 54.76317733763737\n"
     ]
    }
   ],
   "source": [
    "from pyspark.ml.regression import LinearRegression\n",
    "\n",
    "lr = LinearRegression(featuresCol = 'features', labelCol = 'avg_median_per_sq_ft', \n",
    "                      maxIter = 10, regParam = 0.3, elasticNetParam=0.8)\n",
    "lr_model = lr.fit(train_df)\n",
    "\n",
    "print(\"Coefficients: \" + str(lr_model.coefficients))\n",
    "print(\"Intercept: \" + str(lr_model.intercept))"
   ]
  },
  {
   "cell_type": "code",
   "execution_count": 75,
   "metadata": {},
   "outputs": [
    {
     "name": "stdout",
     "output_type": "stream",
     "text": [
      "RMSE: 121.681646\n",
      "r2: 0.261460\n"
     ]
    }
   ],
   "source": [
    "# is there an actual correlation here?\n",
    "trainingSummary = lr_model.summary\n",
    "print(\"RMSE: %f\" % trainingSummary.rootMeanSquaredError)\n",
    "print(\"r2: %f\" % trainingSummary.r2)"
   ]
  },
  {
   "cell_type": "code",
   "execution_count": 76,
   "metadata": {},
   "outputs": [
    {
     "name": "stdout",
     "output_type": "stream",
     "text": [
      "+-------+--------------------+\n",
      "|summary|avg_median_per_sq_ft|\n",
      "+-------+--------------------+\n",
      "|  count|               11008|\n",
      "|   mean|  150.48365954735527|\n",
      "| stddev|   141.5981848243748|\n",
      "|    min|                 0.0|\n",
      "|    max|       2107.78483125|\n",
      "+-------+--------------------+\n",
      "\n"
     ]
    }
   ],
   "source": [
    "train_df.describe().show()"
   ]
  },
  {
   "cell_type": "code",
   "execution_count": 77,
   "metadata": {},
   "outputs": [
    {
     "name": "stdout",
     "output_type": "stream",
     "text": [
      "+------------------+--------------------+--------------------+\n",
      "|        prediction|avg_median_per_sq_ft|            features|\n",
      "+------------------+--------------------+--------------------+\n",
      "|102.26408059308764|   55.18148338333333| [36040.90909090909]|\n",
      "|109.27678474848742|         70.90611354|[41361.739130434784]|\n",
      "|109.70503009115208|        119.81202936|[41686.666666666664]|\n",
      "|110.12332290559615|   76.07582285416667| [42004.04280618312]|\n",
      "| 113.4534670210152|  63.856308814166674|[44530.761523046094]|\n",
      "+------------------+--------------------+--------------------+\n",
      "only showing top 5 rows\n",
      "\n"
     ]
    }
   ],
   "source": [
    "lr_predictions = lr_model.transform(test_df)\n",
    "lr_predictions.select(\"prediction\", \"avg_median_per_sq_ft\", \"features\").show(5)"
   ]
  },
  {
   "cell_type": "code",
   "execution_count": 78,
   "metadata": {},
   "outputs": [
    {
     "name": "stdout",
     "output_type": "stream",
     "text": [
      "R Squared (R2) on test data = 0.145388\n"
     ]
    }
   ],
   "source": [
    "from pyspark.ml.evaluation import RegressionEvaluator\n",
    "lr_evaluator = RegressionEvaluator(predictionCol = \"prediction\",\n",
    "                                  labelCol = \"avg_median_per_sq_ft\",\n",
    "                                  metricName = \"r2\")\n",
    "\n",
    "print(\"R Squared (R2) on test data = %g\" % lr_evaluator.evaluate(lr_predictions))"
   ]
  },
  {
   "cell_type": "code",
   "execution_count": 48,
   "metadata": {},
   "outputs": [
    {
     "name": "stdout",
     "output_type": "stream",
     "text": [
      "the r2 is a bit low\n"
     ]
    }
   ],
   "source": [
    "print(\"the r2 is a bit low\")"
   ]
  },
  {
   "cell_type": "markdown",
   "metadata": {},
   "source": [
    "## Some Exploratory Work"
   ]
  },
  {
   "cell_type": "code",
   "execution_count": 34,
   "metadata": {},
   "outputs": [],
   "source": [
    "query3 = \"\"\"\n",
    "\n",
    "WITH income AS (\n",
    "\t\n",
    "\tSELECT zipcode, state, (sum(total_income)-sum(state_and_local))*1000/sum(n1) as post_tax_income from income_clean GROUP BY zipcode, state\n",
    "),\n",
    "\n",
    "real_estate AS (\n",
    "\n",
    "\tSELECT zipcode, avg(median_listing_price) as avg_median_listing_price from real_estate_clean GROUP BY zipcode\n",
    "),\n",
    "\n",
    "by_zipcode AS (\n",
    "\n",
    "\tSELECT income.zipcode, income.state, income.post_tax_income, real_estate.avg_median_listing_price, income.post_tax_income - real_estate.avg_median_listing_price as diff from income JOIN real_estate ON income.zipcode = real_estate.zipcode ORDER BY diff\n",
    ")\n",
    "\n",
    "SELECT state, avg(post_tax_income), avg(avg_median_listing_price), avg(diff) from by_zipcode GROUP BY state ORDER BY avg(diff)\n",
    "\n",
    "\n",
    "\n",
    "\"\"\"\n",
    "\n",
    "query3 = query3.replace(\"\\n\", \" \").replace(\"\\t\", \" \")"
   ]
  },
  {
   "cell_type": "code",
   "execution_count": 35,
   "metadata": {},
   "outputs": [
    {
     "name": "stdout",
     "output_type": "stream",
     "text": [
      "+-----+--------------------+-----------------------------+-------------------+\n",
      "|state|avg(post_tax_income)|avg(avg_median_listing_price)|          avg(diff)|\n",
      "+-----+--------------------+-----------------------------+-------------------+\n",
      "|   HI|   68641.91974863347|            906265.9027176526| -837623.9829690193|\n",
      "|   CA|   96417.20149538788|            788608.0384310125| -692190.8369356244|\n",
      "|   DC|  124488.94350915364|            678168.9097694634| -553679.9662603097|\n",
      "|   CO|    81083.5185770404|            497124.6175993691|-416041.09902232897|\n",
      "|   WA|   88907.27866687327|           488458.38809978537| -399551.1094329126|\n",
      "|   NY|   88414.77319835074|            444414.6649115052| -355999.8917131542|\n",
      "|   OR|   66652.66204140775|           414252.93242412014|-347600.27038271265|\n",
      "|   MT|  62149.953172751346|           405379.34986487136|-343229.39669212006|\n",
      "|   UT|   75369.47649434747|           407729.34572496626| -332359.8692306188|\n",
      "|   NV|   87750.84571632138|           418521.53557513934| -330770.6898588178|\n",
      "|   MD|   86482.33267736877|            397105.7036201123| -310623.3709427437|\n",
      "|   WY|   93263.63145330193|            379315.2009441707| -286051.5694908688|\n",
      "|   ID|  62378.956841248655|            339449.4765740832|-277070.51973283454|\n",
      "|   VA|   73908.07618179788|           337025.17635842256| -263117.1001766246|\n",
      "|   AZ|   70250.92937881158|            321047.5573328852|-250796.62795407372|\n",
      "|   FL|   87577.07428711835|           324100.28661672457|-236523.21232960626|\n",
      "|   DE|   76445.53491710995|           308030.11749999993|-231584.58258289006|\n",
      "|   NM|   57364.74849727484|             283850.680348124|-226485.93185084924|\n",
      "|   NC|    63166.7242764693|           278466.68599491724| -215299.9617184481|\n",
      "|   MN|   73424.96046399165|           283408.64260748716|-209983.68214349545|\n",
      "+-----+--------------------+-----------------------------+-------------------+\n",
      "only showing top 20 rows\n",
      "\n"
     ]
    }
   ],
   "source": [
    "state_df = spark.sql(query3)\n",
    "state_df.show()"
   ]
  },
  {
   "cell_type": "code",
   "execution_count": 36,
   "metadata": {},
   "outputs": [],
   "source": [
    "df_pandas = state_df.toPandas()"
   ]
  },
  {
   "cell_type": "code",
   "execution_count": 37,
   "metadata": {},
   "outputs": [
    {
     "data": {
      "text/html": [
       "<div>\n",
       "<style scoped>\n",
       "    .dataframe tbody tr th:only-of-type {\n",
       "        vertical-align: middle;\n",
       "    }\n",
       "\n",
       "    .dataframe tbody tr th {\n",
       "        vertical-align: top;\n",
       "    }\n",
       "\n",
       "    .dataframe thead th {\n",
       "        text-align: right;\n",
       "    }\n",
       "</style>\n",
       "<table border=\"1\" class=\"dataframe\">\n",
       "  <thead>\n",
       "    <tr style=\"text-align: right;\">\n",
       "      <th></th>\n",
       "      <th>state</th>\n",
       "      <th>avg(post_tax_income)</th>\n",
       "      <th>avg(avg_median_listing_price)</th>\n",
       "      <th>avg(diff)</th>\n",
       "    </tr>\n",
       "  </thead>\n",
       "  <tbody>\n",
       "    <tr>\n",
       "      <th>0</th>\n",
       "      <td>HI</td>\n",
       "      <td>68641.919749</td>\n",
       "      <td>906265.902718</td>\n",
       "      <td>-837623.982969</td>\n",
       "    </tr>\n",
       "    <tr>\n",
       "      <th>1</th>\n",
       "      <td>CA</td>\n",
       "      <td>96417.201495</td>\n",
       "      <td>788608.038431</td>\n",
       "      <td>-692190.836936</td>\n",
       "    </tr>\n",
       "    <tr>\n",
       "      <th>2</th>\n",
       "      <td>DC</td>\n",
       "      <td>124488.943509</td>\n",
       "      <td>678168.909769</td>\n",
       "      <td>-553679.966260</td>\n",
       "    </tr>\n",
       "    <tr>\n",
       "      <th>3</th>\n",
       "      <td>CO</td>\n",
       "      <td>81083.518577</td>\n",
       "      <td>497124.617599</td>\n",
       "      <td>-416041.099022</td>\n",
       "    </tr>\n",
       "    <tr>\n",
       "      <th>4</th>\n",
       "      <td>WA</td>\n",
       "      <td>88907.278667</td>\n",
       "      <td>488458.388100</td>\n",
       "      <td>-399551.109433</td>\n",
       "    </tr>\n",
       "  </tbody>\n",
       "</table>\n",
       "</div>"
      ],
      "text/plain": [
       "  state  avg(post_tax_income)  avg(avg_median_listing_price)      avg(diff)\n",
       "0    HI          68641.919749                  906265.902718 -837623.982969\n",
       "1    CA          96417.201495                  788608.038431 -692190.836936\n",
       "2    DC         124488.943509                  678168.909769 -553679.966260\n",
       "3    CO          81083.518577                  497124.617599 -416041.099022\n",
       "4    WA          88907.278667                  488458.388100 -399551.109433"
      ]
     },
     "execution_count": 37,
     "metadata": {},
     "output_type": "execute_result"
    }
   ],
   "source": [
    "df_pandas.head()"
   ]
  },
  {
   "cell_type": "code",
   "execution_count": 38,
   "metadata": {},
   "outputs": [],
   "source": [
    "import matplotlib.pyplot as plt"
   ]
  },
  {
   "cell_type": "code",
   "execution_count": 39,
   "metadata": {},
   "outputs": [
    {
     "data": {
      "text/plain": [
       "<matplotlib.collections.PathCollection at 0x7fd59be69850>"
      ]
     },
     "execution_count": 39,
     "metadata": {},
     "output_type": "execute_result"
    },
    {
     "data": {
      "image/png": "[encoded data removed]",
      "text/plain": [
       "<Figure size 432x288 with 1 Axes>"
      ]
     },
     "metadata": {
      "needs_background": "light"
     },
     "output_type": "display_data"
    }
   ],
   "source": [
    "plt.scatter(df_pandas[\"avg(post_tax_income)\"], df_pandas[\"avg(avg_median_listing_price)\"])"
   ]
  },
  {
   "cell_type": "code",
   "execution_count": 40,
   "metadata": {},
   "outputs": [
    {
     "name": "stdout",
     "output_type": "stream",
     "text": [
      "+------+-------+--------------------+--------------------+----------------+------------+---------------------+-------------------+\n",
      "|  date|zipcode|median_listing_price|active_listing_count|median_per_sq_ft|median_sq_ft|average_listing_price|total_listing_count|\n",
      "+------+-------+--------------------+--------------------+----------------+------------+---------------------+-------------------+\n",
      "|201801|  10001|             4950000|                  79|     2054.737468|        2053|          6114301.803|              187\t1|\n",
      "|201801|  10002|             1922500|                 114|     1917.428043|      1027.5|          2344101.514|             1250\t1|\n",
      "|201801|  10003|             2072500|                 170|     1384.542096|         670|          3716218.722|              590\t1|\n",
      "|201801|  10004|             1185000|                  22|     1285.714286|       852.5|          2322130.435|               42\t1|\n",
      "|201801|  10005|           1395000.5|                  79|     1385.177251|         963|          1624165.762|              139\t1|\n",
      "|201801|  10006|             2444000|                  56|     2271.037265|       986.5|          4200294.772|              244\t1|\n",
      "|201801|  10007|             5000000|                 113|     2313.582814|        2220|          6633893.311|              213\t1|\n",
      "|201801|  10009|             1400000|                  34|     1337.051337|         800|          1967613.609|              302\t1|\n",
      "|201801|   1001|            219493.5|                  45|     160.3328896|        1308|          255437.2589|               61\t1|\n",
      "|201801|  10010|             2612500|                 150|     1897.120861|      1242.5|          4471410.224|              590\t1|\n",
      "|201801|  10011|             2937500|                 242|     1699.963442|        1300|          5320074.857|              746\t1|\n",
      "|201801|  10012|             4350000|                  83|            2000|        2015|          7036184.736|              271\t1|\n",
      "|201801|  10013|             5200000|                 233|      2098.67179|        2311|          7596926.829|              701\t1|\n",
      "|201801|  10014|             3145000|                 154|     1800.758429|      1124.5|           5788218.08|              534\t1|\n",
      "|201801|  10016|             1295000|                 233|     1195.152676|       777.5|          2061065.136|              869\t1|\n",
      "|201801|  10017|             1055000|                 115|     1029.610169|       610.5|          3050466.324|              311\t1|\n",
      "|201801|  10018|             3362500|                  15|            1200|      1345.5|          4191180.147|               23\t1|\n",
      "|201801|  10019|             2485000|                 290|     1787.082497|        1095|          5199997.999|              606\t1|\n",
      "|201801|   1002|              373000|                  65|      206.277619|        1841|          474632.0821|               81\t1|\n",
      "|201801|  10021|             2495000|                 406|               0|           0|          6377955.749|              834\t1|\n",
      "+------+-------+--------------------+--------------------+----------------+------------+---------------------+-------------------+\n",
      "only showing top 20 rows\n",
      "\n"
     ]
    }
   ],
   "source": [
    "real.show()"
   ]
  },
  {
   "cell_type": "code",
   "execution_count": 41,
   "metadata": {},
   "outputs": [
    {
     "name": "stdout",
     "output_type": "stream",
     "text": [
      "+-------+-----+--------+------------+------------+---------------+-----------+----------+-----------+--------------+\n",
      "|zipcode|state|agi_stub|          n1|total_income|state_and_local|real_estate|  num_paid|paid_amount|taxable_amount|\n",
      "+-------+-----+--------+------------+------------+---------------+-----------+----------+-----------+--------------+\n",
      "|  00000|   AK|       1| 102970.0000|1217577.0000|        91.0000|  2345.0000|  760.0000|  2871.0000| 258661.0000\t1|\n",
      "|  00000|   AK|       2|  78020.0000|2883175.0000|        99.0000|  7750.0000| 2140.0000|  8440.0000|1606418.0000\t1|\n",
      "|  00000|   AK|       3|  51120.0000|3184731.0000|       488.0000| 14187.0000| 3470.0000| 15114.0000|2212441.0000\t1|\n",
      "|  00000|   AK|       4|  35550.0000|3112057.0000|       474.0000| 15475.0000| 3520.0000| 16971.0000|2334158.0000\t1|\n",
      "|  00000|   AK|       5|  59750.0000|8274715.0000|      3487.0000| 46867.0000| 8750.0000| 51648.0000|6713257.0000\t1|\n",
      "|  00000|   AK|       6|  17810.0000|6953958.0000|      6337.0000| 56867.0000| 6340.0000| 51250.0000|6090219.0000\t1|\n",
      "|  00000|   AL|       1| 768120.0000|10261015.000|      2905.0000|  4983.0000| 8500.0000| 17163.0000|1549172.0000\t1|\n",
      "|  00000|   AL|       2| 503430.0000|18322144.000|     27454.0000| 15803.0000|22160.0000| 62294.0000|9420159.0000\t1|\n",
      "|  00000|   AL|       3| 274590.0000|17015570.000|     56235.0000| 27053.0000|27110.0000|104561.0000|11355943.000\t1|\n",
      "|  00000|   AL|       4| 174830.0000|15290801.000|     60309.0000| 24974.0000|19810.0000| 97041.0000|11151360.000\t1|\n",
      "|  00000|   AL|       5| 245150.0000|33654113.000|    292798.0000| 99863.0000|54720.0000|391501.0000|26861846.000\t1|\n",
      "|  00000|   AL|       6|  70170.0000|32218098.000|    714402.0000|164434.0000|39520.0000|396746.0000|27432698.000\t1|\n",
      "|  00000|   AR|       1| 462950.0000|6159333.0000|      1070.0000|  3893.0000| 3620.0000|  9239.0000| 937927.0000\t1|\n",
      "|  00000|   AR|       2| 313910.0000|11405800.000|     11426.0000|  9789.0000| 8940.0000| 28439.0000|5776590.0000\t1|\n",
      "|  00000|   AR|       3| 168440.0000|10463275.000|     28242.0000| 16374.0000|11820.0000| 51808.0000|6901933.0000\t1|\n",
      "|  00000|   AR|       4| 103140.0000|9047681.0000|     34951.0000| 16363.0000| 9550.0000| 55667.0000|6557077.0000\t1|\n",
      "|  00000|   AR|       5| 131140.0000|17975145.000|    196964.0000| 64691.0000|27580.0000|232268.0000|14257197.000\t1|\n",
      "|  00000|   AR|       6|  37860.0000|22193848.000|    656072.0000| 96384.0000|20180.0000|207702.0000|18264341.000\t1|\n",
      "|  00000|   AZ|       1|1000890.0000|13633030.000|      6259.0000| 38660.0000|20140.0000| 60751.0000|2386939.0000\t1|\n",
      "|  00000|   AZ|       2| 803950.0000|29355605.000|     28013.0000| 71498.0000|37060.0000|130045.0000|15476519.000\t1|\n",
      "+-------+-----+--------+------------+------------+---------------+-----------+----------+-----------+--------------+\n",
      "only showing top 20 rows\n",
      "\n"
     ]
    }
   ],
   "source": [
    "income.show()"
   ]
  },
  {
   "cell_type": "code",
   "execution_count": null,
   "metadata": {},
   "outputs": [],
   "source": []
  },
  {
   "cell_type": "code",
   "execution_count": null,
   "metadata": {},
   "outputs": [],
   "source": []
  }
 ],
 "metadata": {
  "kernelspec": {
   "display_name": "Python 3",
   "language": "python",
   "name": "python3"
  },
  "language_info": {
   "codemirror_mode": {
    "name": "ipython",
    "version": 3
   },
   "file_extension": ".py",
   "mimetype": "text/x-python",
   "name": "python",
   "nbconvert_exporter": "python",
   "pygments_lexer": "ipython3",
   "version": "3.8.5"
  }
 },
 "nbformat": 4,
 "nbformat_minor": 4
}
